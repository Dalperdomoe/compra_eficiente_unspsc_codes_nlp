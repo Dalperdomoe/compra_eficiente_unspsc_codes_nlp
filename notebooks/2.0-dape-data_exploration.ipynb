{
 "cells": [
  {
   "cell_type": "markdown",
   "metadata": {},
   "source": [
    "# Exploration\n",
    "\n",
    "Here we perform some basic exploration of the SECOP II dataset in order to get basic insights and get some ideas on how to process the data for training the model."
   ]
  },
  {
   "cell_type": "code",
   "execution_count": 2,
   "metadata": {},
   "outputs": [],
   "source": [
    "import os\n",
    "import numpy as np\n",
    "import pandas as pd\n",
    "\n",
    "import matplotlib.pyplot as plt\n",
    "import seaborn as sns\n",
    "\n",
    "plt.style.use(\"seaborn\")"
   ]
  },
  {
   "cell_type": "markdown",
   "metadata": {},
   "source": [
    "# Data Loading"
   ]
  },
  {
   "cell_type": "code",
   "execution_count": 3,
   "metadata": {},
   "outputs": [
    {
     "name": "stdout",
     "output_type": "stream",
     "text": [
      "(500000, 2)\n",
      "Index(['descripcion_del_proceso', 'codigo_de_categoria_principal'], dtype='object')\n"
     ]
    },
    {
     "data": {
      "text/html": [
       "<div>\n",
       "<style scoped>\n",
       "    .dataframe tbody tr th:only-of-type {\n",
       "        vertical-align: middle;\n",
       "    }\n",
       "\n",
       "    .dataframe tbody tr th {\n",
       "        vertical-align: top;\n",
       "    }\n",
       "\n",
       "    .dataframe thead th {\n",
       "        text-align: right;\n",
       "    }\n",
       "</style>\n",
       "<table border=\"1\" class=\"dataframe\">\n",
       "  <thead>\n",
       "    <tr style=\"text-align: right;\">\n",
       "      <th></th>\n",
       "      <th>descripcion_del_proceso</th>\n",
       "      <th>codigo_de_categoria_principal</th>\n",
       "    </tr>\n",
       "  </thead>\n",
       "  <tbody>\n",
       "    <tr>\n",
       "      <th>0</th>\n",
       "      <td>Prestar los servicios profesionales de apoyo j...</td>\n",
       "      <td>V1.77101604</td>\n",
       "    </tr>\n",
       "    <tr>\n",
       "      <th>1</th>\n",
       "      <td>CONTRATAR EL SERVICIO DE GESTIÓN DE EVENTOS O ...</td>\n",
       "      <td>V1.90101604</td>\n",
       "    </tr>\n",
       "    <tr>\n",
       "      <th>2</th>\n",
       "      <td>Censo_Economico_2021_SECGEN_BDMGN_TH Prestació...</td>\n",
       "      <td>V1.80111500</td>\n",
       "    </tr>\n",
       "    <tr>\n",
       "      <th>3</th>\n",
       "      <td>PRESTAR SERVICIOS DE CARÁCTER TEMPORAL COMO IN...</td>\n",
       "      <td>V1.80111600</td>\n",
       "    </tr>\n",
       "    <tr>\n",
       "      <th>4</th>\n",
       "      <td>AUNAR ESFUERZOS ENTRE EL DEPARTAMENTO Y EL MUN...</td>\n",
       "      <td>V1.72141003</td>\n",
       "    </tr>\n",
       "  </tbody>\n",
       "</table>\n",
       "</div>"
      ],
      "text/plain": [
       "                             descripcion_del_proceso  \\\n",
       "0  Prestar los servicios profesionales de apoyo j...   \n",
       "1  CONTRATAR EL SERVICIO DE GESTIÓN DE EVENTOS O ...   \n",
       "2  Censo_Economico_2021_SECGEN_BDMGN_TH Prestació...   \n",
       "3  PRESTAR SERVICIOS DE CARÁCTER TEMPORAL COMO IN...   \n",
       "4  AUNAR ESFUERZOS ENTRE EL DEPARTAMENTO Y EL MUN...   \n",
       "\n",
       "  codigo_de_categoria_principal  \n",
       "0                   V1.77101604  \n",
       "1                   V1.90101604  \n",
       "2                   V1.80111500  \n",
       "3                   V1.80111600  \n",
       "4                   V1.72141003  "
      ]
     },
     "execution_count": 3,
     "metadata": {},
     "output_type": "execute_result"
    }
   ],
   "source": [
    "raw_file = os.path.join(\"..\", \"data\", \"raw\", \"raw_data.csv\")\n",
    "df_raw = pd.read_csv(raw_file)\n",
    "\n",
    "print(df_raw.shape)\n",
    "print(df_raw.columns)\n",
    "\n",
    "df_raw.head()"
   ]
  },
  {
   "cell_type": "code",
   "execution_count": 4,
   "metadata": {},
   "outputs": [
    {
     "data": {
      "text/plain": [
       "descripcion_del_proceso          0\n",
       "codigo_de_categoria_principal    0\n",
       "dtype: int64"
      ]
     },
     "execution_count": 4,
     "metadata": {},
     "output_type": "execute_result"
    }
   ],
   "source": [
    "pd.isnull(df_raw).sum()"
   ]
  },
  {
   "cell_type": "markdown",
   "metadata": {},
   "source": [
    "As we can see, there are no entries without description or UNSPSC code."
   ]
  },
  {
   "cell_type": "markdown",
   "metadata": {},
   "source": [
    "#  Load UNSPSC Codes References"
   ]
  },
  {
   "cell_type": "code",
   "execution_count": 5,
   "metadata": {},
   "outputs": [
    {
     "name": "stdout",
     "output_type": "stream",
     "text": [
      "(4295, 8)\n",
      "Index(['Commodity Code', 'Commodity Title', 'Class Code', 'Class Title',\n",
      "       'Family Code', 'Family Title', 'Segment Code', 'Segment Title'],\n",
      "      dtype='object')\n"
     ]
    },
    {
     "data": {
      "text/html": [
       "<div>\n",
       "<style scoped>\n",
       "    .dataframe tbody tr th:only-of-type {\n",
       "        vertical-align: middle;\n",
       "    }\n",
       "\n",
       "    .dataframe tbody tr th {\n",
       "        vertical-align: top;\n",
       "    }\n",
       "\n",
       "    .dataframe thead th {\n",
       "        text-align: right;\n",
       "    }\n",
       "</style>\n",
       "<table border=\"1\" class=\"dataframe\">\n",
       "  <thead>\n",
       "    <tr style=\"text-align: right;\">\n",
       "      <th></th>\n",
       "      <th>Commodity Code</th>\n",
       "      <th>Commodity Title</th>\n",
       "      <th>Class Code</th>\n",
       "      <th>Class Title</th>\n",
       "      <th>Family Code</th>\n",
       "      <th>Family Title</th>\n",
       "      <th>Segment Code</th>\n",
       "      <th>Segment Title</th>\n",
       "    </tr>\n",
       "  </thead>\n",
       "  <tbody>\n",
       "    <tr>\n",
       "      <th>0</th>\n",
       "      <td>10111302</td>\n",
       "      <td>Pet grooming products</td>\n",
       "      <td>10111300</td>\n",
       "      <td>Domestic pet treatments and accessories and eq...</td>\n",
       "      <td>10110000</td>\n",
       "      <td>Domestic pet products</td>\n",
       "      <td>10000000</td>\n",
       "      <td>Live Plant and Animal Material and Accessories...</td>\n",
       "    </tr>\n",
       "    <tr>\n",
       "      <th>1</th>\n",
       "      <td>10111306</td>\n",
       "      <td>Domestic pet training kits</td>\n",
       "      <td>10111300</td>\n",
       "      <td>Domestic pet treatments and accessories and eq...</td>\n",
       "      <td>10110000</td>\n",
       "      <td>Domestic pet products</td>\n",
       "      <td>10000000</td>\n",
       "      <td>Live Plant and Animal Material and Accessories...</td>\n",
       "    </tr>\n",
       "    <tr>\n",
       "      <th>2</th>\n",
       "      <td>10131601</td>\n",
       "      <td>Cages or its accessories</td>\n",
       "      <td>10131600</td>\n",
       "      <td>Animal containment</td>\n",
       "      <td>10130000</td>\n",
       "      <td>Animal containment and habitats</td>\n",
       "      <td>10000000</td>\n",
       "      <td>Live Plant and Animal Material and Accessories...</td>\n",
       "    </tr>\n",
       "    <tr>\n",
       "      <th>3</th>\n",
       "      <td>10131602</td>\n",
       "      <td>Kennels</td>\n",
       "      <td>10131600</td>\n",
       "      <td>Animal containment</td>\n",
       "      <td>10130000</td>\n",
       "      <td>Animal containment and habitats</td>\n",
       "      <td>10000000</td>\n",
       "      <td>Live Plant and Animal Material and Accessories...</td>\n",
       "    </tr>\n",
       "    <tr>\n",
       "      <th>4</th>\n",
       "      <td>10131605</td>\n",
       "      <td>Animal transport cage</td>\n",
       "      <td>10131600</td>\n",
       "      <td>Animal containment</td>\n",
       "      <td>10130000</td>\n",
       "      <td>Animal containment and habitats</td>\n",
       "      <td>10000000</td>\n",
       "      <td>Live Plant and Animal Material and Accessories...</td>\n",
       "    </tr>\n",
       "  </tbody>\n",
       "</table>\n",
       "</div>"
      ],
      "text/plain": [
       "   Commodity Code             Commodity Title  Class Code  \\\n",
       "0        10111302       Pet grooming products    10111300   \n",
       "1        10111306  Domestic pet training kits    10111300   \n",
       "2        10131601    Cages or its accessories    10131600   \n",
       "3        10131602                     Kennels    10131600   \n",
       "4        10131605       Animal transport cage    10131600   \n",
       "\n",
       "                                         Class Title  Family Code  \\\n",
       "0  Domestic pet treatments and accessories and eq...     10110000   \n",
       "1  Domestic pet treatments and accessories and eq...     10110000   \n",
       "2                                 Animal containment     10130000   \n",
       "3                                 Animal containment     10130000   \n",
       "4                                 Animal containment     10130000   \n",
       "\n",
       "                      Family Title  Segment Code  \\\n",
       "0            Domestic pet products      10000000   \n",
       "1            Domestic pet products      10000000   \n",
       "2  Animal containment and habitats      10000000   \n",
       "3  Animal containment and habitats      10000000   \n",
       "4  Animal containment and habitats      10000000   \n",
       "\n",
       "                                       Segment Title  \n",
       "0  Live Plant and Animal Material and Accessories...  \n",
       "1  Live Plant and Animal Material and Accessories...  \n",
       "2  Live Plant and Animal Material and Accessories...  \n",
       "3  Live Plant and Animal Material and Accessories...  \n",
       "4  Live Plant and Animal Material and Accessories...  "
      ]
     },
     "execution_count": 5,
     "metadata": {},
     "output_type": "execute_result"
    }
   ],
   "source": [
    "unspsc_file = os.path.join(\"..\",\"references\",\"UNSPSC Codes Reference.xlsx\")\n",
    "df_unspsc = pd.read_excel(unspsc_file)\n",
    "\n",
    "print(df_unspsc.shape)\n",
    "print(df_unspsc.columns)\n",
    "\n",
    "df_unspsc.head()"
   ]
  },
  {
   "cell_type": "code",
   "execution_count": 6,
   "metadata": {},
   "outputs": [],
   "source": [
    "commodity_dict = dict(\n",
    "    zip(\n",
    "        df_unspsc['Commodity Code'],df_unspsc['Commodity Title']\n",
    "    )\n",
    ")\n",
    "class_dict = dict(\n",
    "    zip(\n",
    "        df_unspsc['Class Code'].astype('str').str.extract('([0-9]{6})', expand=False),\n",
    "        df_unspsc['Class Title']\n",
    "    )\n",
    ")\n",
    "family_dict = dict(\n",
    "    zip(\n",
    "        df_unspsc['Family Code'].astype('str').str.extract('([0-9]{4})', expand=False),\n",
    "        df_unspsc['Family Title']\n",
    "    )\n",
    ")\n",
    "segment_dict = dict(\n",
    "    zip(\n",
    "        df_unspsc['Segment Code'].astype('str').str.extract('([0-9]{2})', expand=False),\n",
    "        df_unspsc['Segment Title']\n",
    "    )\n",
    ")"
   ]
  },
  {
   "cell_type": "markdown",
   "metadata": {},
   "source": [
    "# Transform UNSPSC codes to topics"
   ]
  },
  {
   "cell_type": "code",
   "execution_count": 7,
   "metadata": {},
   "outputs": [
    {
     "data": {
      "text/html": [
       "<div>\n",
       "<style scoped>\n",
       "    .dataframe tbody tr th:only-of-type {\n",
       "        vertical-align: middle;\n",
       "    }\n",
       "\n",
       "    .dataframe tbody tr th {\n",
       "        vertical-align: top;\n",
       "    }\n",
       "\n",
       "    .dataframe thead th {\n",
       "        text-align: right;\n",
       "    }\n",
       "</style>\n",
       "<table border=\"1\" class=\"dataframe\">\n",
       "  <thead>\n",
       "    <tr style=\"text-align: right;\">\n",
       "      <th></th>\n",
       "      <th>descripcion_del_proceso</th>\n",
       "      <th>codigo_de_categoria_principal</th>\n",
       "      <th>segment_code</th>\n",
       "      <th>family_code</th>\n",
       "      <th>class_code</th>\n",
       "      <th>commodity_code</th>\n",
       "    </tr>\n",
       "  </thead>\n",
       "  <tbody>\n",
       "    <tr>\n",
       "      <th>0</th>\n",
       "      <td>Prestar los servicios profesionales de apoyo j...</td>\n",
       "      <td>77101604</td>\n",
       "      <td>77</td>\n",
       "      <td>7710</td>\n",
       "      <td>771016</td>\n",
       "      <td>77101604</td>\n",
       "    </tr>\n",
       "    <tr>\n",
       "      <th>1</th>\n",
       "      <td>CONTRATAR EL SERVICIO DE GESTIÓN DE EVENTOS O ...</td>\n",
       "      <td>90101604</td>\n",
       "      <td>90</td>\n",
       "      <td>9010</td>\n",
       "      <td>901016</td>\n",
       "      <td>90101604</td>\n",
       "    </tr>\n",
       "    <tr>\n",
       "      <th>2</th>\n",
       "      <td>Censo_Economico_2021_SECGEN_BDMGN_TH Prestació...</td>\n",
       "      <td>80111500</td>\n",
       "      <td>80</td>\n",
       "      <td>8011</td>\n",
       "      <td>801115</td>\n",
       "      <td>80111500</td>\n",
       "    </tr>\n",
       "    <tr>\n",
       "      <th>3</th>\n",
       "      <td>PRESTAR SERVICIOS DE CARÁCTER TEMPORAL COMO IN...</td>\n",
       "      <td>80111600</td>\n",
       "      <td>80</td>\n",
       "      <td>8011</td>\n",
       "      <td>801116</td>\n",
       "      <td>80111600</td>\n",
       "    </tr>\n",
       "    <tr>\n",
       "      <th>4</th>\n",
       "      <td>AUNAR ESFUERZOS ENTRE EL DEPARTAMENTO Y EL MUN...</td>\n",
       "      <td>72141003</td>\n",
       "      <td>72</td>\n",
       "      <td>7214</td>\n",
       "      <td>721410</td>\n",
       "      <td>72141003</td>\n",
       "    </tr>\n",
       "  </tbody>\n",
       "</table>\n",
       "</div>"
      ],
      "text/plain": [
       "                             descripcion_del_proceso  \\\n",
       "0  Prestar los servicios profesionales de apoyo j...   \n",
       "1  CONTRATAR EL SERVICIO DE GESTIÓN DE EVENTOS O ...   \n",
       "2  Censo_Economico_2021_SECGEN_BDMGN_TH Prestació...   \n",
       "3  PRESTAR SERVICIOS DE CARÁCTER TEMPORAL COMO IN...   \n",
       "4  AUNAR ESFUERZOS ENTRE EL DEPARTAMENTO Y EL MUN...   \n",
       "\n",
       "  codigo_de_categoria_principal segment_code family_code class_code  \\\n",
       "0                      77101604           77        7710     771016   \n",
       "1                      90101604           90        9010     901016   \n",
       "2                      80111500           80        8011     801115   \n",
       "3                      80111600           80        8011     801116   \n",
       "4                      72141003           72        7214     721410   \n",
       "\n",
       "  commodity_code  \n",
       "0       77101604  \n",
       "1       90101604  \n",
       "2       80111500  \n",
       "3       80111600  \n",
       "4       72141003  "
      ]
     },
     "execution_count": 7,
     "metadata": {},
     "output_type": "execute_result"
    }
   ],
   "source": [
    "df_raw['codigo_de_categoria_principal'] = df_raw['codigo_de_categoria_principal'].str.extract('([0-9]{8})', expand=False)\n",
    "\n",
    "df_raw['segment_code'] = df_raw['codigo_de_categoria_principal'].str.extract('([0-9]{2})', expand=False)\n",
    "df_raw['family_code'] = df_raw['codigo_de_categoria_principal'].str.extract('([0-9]{2,4})', expand=False)\n",
    "df_raw['class_code'] = df_raw['codigo_de_categoria_principal'].str.extract('([0-9]{4,6})', expand=False)\n",
    "df_raw['commodity_code'] = df_raw['codigo_de_categoria_principal'].str.extract('([0-9]{6,8})', expand=False)\n",
    "\n",
    "df_raw.head()"
   ]
  },
  {
   "cell_type": "code",
   "execution_count": 7,
   "metadata": {},
   "outputs": [
    {
     "data": {
      "text/html": [
       "<div>\n",
       "<style scoped>\n",
       "    .dataframe tbody tr th:only-of-type {\n",
       "        vertical-align: middle;\n",
       "    }\n",
       "\n",
       "    .dataframe tbody tr th {\n",
       "        vertical-align: top;\n",
       "    }\n",
       "\n",
       "    .dataframe thead th {\n",
       "        text-align: right;\n",
       "    }\n",
       "</style>\n",
       "<table border=\"1\" class=\"dataframe\">\n",
       "  <thead>\n",
       "    <tr style=\"text-align: right;\">\n",
       "      <th></th>\n",
       "      <th>descripcion_del_proceso</th>\n",
       "      <th>codigo_de_categoria_principal</th>\n",
       "      <th>segment_code</th>\n",
       "      <th>family_code</th>\n",
       "      <th>class_code</th>\n",
       "      <th>commodity_code</th>\n",
       "      <th>segment_text</th>\n",
       "      <th>family_text</th>\n",
       "      <th>class_text</th>\n",
       "      <th>commodity_text</th>\n",
       "    </tr>\n",
       "  </thead>\n",
       "  <tbody>\n",
       "    <tr>\n",
       "      <th>0</th>\n",
       "      <td>Prestar los servicios profesionales de apoyo j...</td>\n",
       "      <td>77101604</td>\n",
       "      <td>77</td>\n",
       "      <td>7710</td>\n",
       "      <td>771016</td>\n",
       "      <td>77101604</td>\n",
       "      <td>NaN</td>\n",
       "      <td>NaN</td>\n",
       "      <td>NaN</td>\n",
       "      <td>NaN</td>\n",
       "    </tr>\n",
       "    <tr>\n",
       "      <th>1</th>\n",
       "      <td>CONTRATAR EL SERVICIO DE GESTIÓN DE EVENTOS O ...</td>\n",
       "      <td>90101604</td>\n",
       "      <td>90</td>\n",
       "      <td>9010</td>\n",
       "      <td>901016</td>\n",
       "      <td>90101604</td>\n",
       "      <td>NaN</td>\n",
       "      <td>NaN</td>\n",
       "      <td>NaN</td>\n",
       "      <td>NaN</td>\n",
       "    </tr>\n",
       "    <tr>\n",
       "      <th>2</th>\n",
       "      <td>Censo_Economico_2021_SECGEN_BDMGN_TH Prestació...</td>\n",
       "      <td>80111500</td>\n",
       "      <td>80</td>\n",
       "      <td>8011</td>\n",
       "      <td>801115</td>\n",
       "      <td>80111500</td>\n",
       "      <td>NaN</td>\n",
       "      <td>NaN</td>\n",
       "      <td>NaN</td>\n",
       "      <td>NaN</td>\n",
       "    </tr>\n",
       "    <tr>\n",
       "      <th>3</th>\n",
       "      <td>PRESTAR SERVICIOS DE CARÁCTER TEMPORAL COMO IN...</td>\n",
       "      <td>80111600</td>\n",
       "      <td>80</td>\n",
       "      <td>8011</td>\n",
       "      <td>801116</td>\n",
       "      <td>80111600</td>\n",
       "      <td>NaN</td>\n",
       "      <td>NaN</td>\n",
       "      <td>NaN</td>\n",
       "      <td>NaN</td>\n",
       "    </tr>\n",
       "    <tr>\n",
       "      <th>4</th>\n",
       "      <td>AUNAR ESFUERZOS ENTRE EL DEPARTAMENTO Y EL MUN...</td>\n",
       "      <td>72141003</td>\n",
       "      <td>72</td>\n",
       "      <td>7214</td>\n",
       "      <td>721410</td>\n",
       "      <td>72141003</td>\n",
       "      <td>NaN</td>\n",
       "      <td>NaN</td>\n",
       "      <td>NaN</td>\n",
       "      <td>NaN</td>\n",
       "    </tr>\n",
       "    <tr>\n",
       "      <th>5</th>\n",
       "      <td>El objeto del presente contrato es la Administ...</td>\n",
       "      <td>93151500</td>\n",
       "      <td>93</td>\n",
       "      <td>9315</td>\n",
       "      <td>931515</td>\n",
       "      <td>93151500</td>\n",
       "      <td>Politics and Civic Affairs Services</td>\n",
       "      <td>Public administration and finance services</td>\n",
       "      <td>NaN</td>\n",
       "      <td>NaN</td>\n",
       "    </tr>\n",
       "    <tr>\n",
       "      <th>6</th>\n",
       "      <td>2021V-32 PRESTAR SERVICIOS PROFESIONALES PARA ...</td>\n",
       "      <td>80101600</td>\n",
       "      <td>80</td>\n",
       "      <td>8010</td>\n",
       "      <td>801016</td>\n",
       "      <td>80101600</td>\n",
       "      <td>NaN</td>\n",
       "      <td>NaN</td>\n",
       "      <td>NaN</td>\n",
       "      <td>NaN</td>\n",
       "    </tr>\n",
       "    <tr>\n",
       "      <th>7</th>\n",
       "      <td>SERVICIO DE FUMIGACIÓN POR ASPERSIÓN PARA EL A...</td>\n",
       "      <td>72154043</td>\n",
       "      <td>72</td>\n",
       "      <td>7215</td>\n",
       "      <td>721540</td>\n",
       "      <td>72154043</td>\n",
       "      <td>NaN</td>\n",
       "      <td>NaN</td>\n",
       "      <td>NaN</td>\n",
       "      <td>NaN</td>\n",
       "    </tr>\n",
       "    <tr>\n",
       "      <th>8</th>\n",
       "      <td>PRESTAR SERVICIOS COMO PROFESIONAL PARA EL COM...</td>\n",
       "      <td>80111701</td>\n",
       "      <td>80</td>\n",
       "      <td>8011</td>\n",
       "      <td>801117</td>\n",
       "      <td>80111701</td>\n",
       "      <td>NaN</td>\n",
       "      <td>NaN</td>\n",
       "      <td>NaN</td>\n",
       "      <td>NaN</td>\n",
       "    </tr>\n",
       "    <tr>\n",
       "      <th>9</th>\n",
       "      <td>CONTRATO DE OBRA PÚBLICA PARA LA ADQUISICIÓN D...</td>\n",
       "      <td>72151500</td>\n",
       "      <td>72</td>\n",
       "      <td>7215</td>\n",
       "      <td>721515</td>\n",
       "      <td>72151500</td>\n",
       "      <td>NaN</td>\n",
       "      <td>NaN</td>\n",
       "      <td>NaN</td>\n",
       "      <td>NaN</td>\n",
       "    </tr>\n",
       "  </tbody>\n",
       "</table>\n",
       "</div>"
      ],
      "text/plain": [
       "                             descripcion_del_proceso  \\\n",
       "0  Prestar los servicios profesionales de apoyo j...   \n",
       "1  CONTRATAR EL SERVICIO DE GESTIÓN DE EVENTOS O ...   \n",
       "2  Censo_Economico_2021_SECGEN_BDMGN_TH Prestació...   \n",
       "3  PRESTAR SERVICIOS DE CARÁCTER TEMPORAL COMO IN...   \n",
       "4  AUNAR ESFUERZOS ENTRE EL DEPARTAMENTO Y EL MUN...   \n",
       "5  El objeto del presente contrato es la Administ...   \n",
       "6  2021V-32 PRESTAR SERVICIOS PROFESIONALES PARA ...   \n",
       "7  SERVICIO DE FUMIGACIÓN POR ASPERSIÓN PARA EL A...   \n",
       "8  PRESTAR SERVICIOS COMO PROFESIONAL PARA EL COM...   \n",
       "9  CONTRATO DE OBRA PÚBLICA PARA LA ADQUISICIÓN D...   \n",
       "\n",
       "  codigo_de_categoria_principal segment_code family_code class_code  \\\n",
       "0                      77101604           77        7710     771016   \n",
       "1                      90101604           90        9010     901016   \n",
       "2                      80111500           80        8011     801115   \n",
       "3                      80111600           80        8011     801116   \n",
       "4                      72141003           72        7214     721410   \n",
       "5                      93151500           93        9315     931515   \n",
       "6                      80101600           80        8010     801016   \n",
       "7                      72154043           72        7215     721540   \n",
       "8                      80111701           80        8011     801117   \n",
       "9                      72151500           72        7215     721515   \n",
       "\n",
       "  commodity_code                         segment_text  \\\n",
       "0       77101604                                  NaN   \n",
       "1       90101604                                  NaN   \n",
       "2       80111500                                  NaN   \n",
       "3       80111600                                  NaN   \n",
       "4       72141003                                  NaN   \n",
       "5       93151500  Politics and Civic Affairs Services   \n",
       "6       80101600                                  NaN   \n",
       "7       72154043                                  NaN   \n",
       "8       80111701                                  NaN   \n",
       "9       72151500                                  NaN   \n",
       "\n",
       "                                  family_text class_text commodity_text  \n",
       "0                                         NaN        NaN            NaN  \n",
       "1                                         NaN        NaN            NaN  \n",
       "2                                         NaN        NaN            NaN  \n",
       "3                                         NaN        NaN            NaN  \n",
       "4                                         NaN        NaN            NaN  \n",
       "5  Public administration and finance services        NaN            NaN  \n",
       "6                                         NaN        NaN            NaN  \n",
       "7                                         NaN        NaN            NaN  \n",
       "8                                         NaN        NaN            NaN  \n",
       "9                                         NaN        NaN            NaN  "
      ]
     },
     "execution_count": 7,
     "metadata": {},
     "output_type": "execute_result"
    }
   ],
   "source": [
    "df_raw['segment_text'] = df_raw.segment_code.replace(segment_dict).str.extract('([^0-9]+)')\n",
    "df_raw['family_text'] = df_raw.family_code.replace(family_dict).str.extract('([^0-9]+)')\n",
    "df_raw['class_text'] = df_raw.class_code.replace(class_dict).str.extract('([^0-9]+)')\n",
    "df_raw['commodity_text'] = df_raw.commodity_code.replace(commodity_dict).str.extract('([^0-9]+)')\n",
    "\n",
    "df_raw.head(10)"
   ]
  },
  {
   "cell_type": "code",
   "execution_count": 8,
   "metadata": {},
   "outputs": [
    {
     "name": "stdout",
     "output_type": "stream",
     "text": [
      "<class 'pandas.core.frame.DataFrame'>\n",
      "RangeIndex: 500000 entries, 0 to 499999\n",
      "Data columns (total 6 columns):\n",
      " #   Column                         Non-Null Count   Dtype \n",
      "---  ------                         --------------   ----- \n",
      " 0   descripcion_del_proceso        500000 non-null  object\n",
      " 1   codigo_de_categoria_principal  499386 non-null  object\n",
      " 2   segment_code                   499386 non-null  object\n",
      " 3   family_code                    499386 non-null  object\n",
      " 4   class_code                     499386 non-null  object\n",
      " 5   commodity_code                 499386 non-null  object\n",
      "dtypes: object(6)\n",
      "memory usage: 22.9+ MB\n"
     ]
    }
   ],
   "source": [
    "df_raw.info()"
   ]
  },
  {
   "cell_type": "markdown",
   "metadata": {},
   "source": [
    "Here we can see that theres a lot of codes without a topic representation. So it's better keep making the analysis with the codes instead of his text representations"
   ]
  },
  {
   "cell_type": "markdown",
   "metadata": {},
   "source": [
    "# Description Exploration"
   ]
  },
  {
   "cell_type": "code",
   "execution_count": 9,
   "metadata": {},
   "outputs": [
    {
     "data": {
      "image/png": "[encoded data removed]",
      "text/plain": [
       "<Figure size 504x504 with 1 Axes>"
      ]
     },
     "metadata": {
      "needs_background": "light"
     },
     "output_type": "display_data"
    }
   ],
   "source": [
    "df_raw[\"description_lenght\"] = df_raw.descripcion_del_proceso.map(len)\n",
    "\n",
    "fig, ax = plt.subplots(figsize=(7, 7))\n",
    "lens_log10 = df_raw[\"description_lenght\"].map(np.log10)\n",
    "lens_log10.plot.hist(bins=40, ax=ax)\n",
    "\n",
    "median_len = lens_log10.median()\n",
    "ax.axvline(median_len, label=f\"Median Description Lenght: {10 ** median_len:0.2f}\", color=\"black\")\n",
    "\n",
    "ax.set_title(\"Hitorgram of Description Lenght (Characters)\")\n",
    "ax.set_xlabel(\"Length of Description (Log10)\")\n",
    "ax.legend()\n",
    "plt.show()"
   ]
  },
  {
   "cell_type": "markdown",
   "metadata": {},
   "source": [
    "From these basic histograms of description texts, we can see that mosk contracts texts are rather short, with a median description length of around 232 characters (10 ^ 2,36). This in turn corresponds to around 35 - 45 words."
   ]
  },
  {
   "cell_type": "markdown",
   "metadata": {},
   "source": [
    "# Text Exploration\n",
    "\n",
    "Now we take a quick look at one of the contracts bodies to get a better idea of what we are dealing with."
   ]
  },
  {
   "cell_type": "code",
   "execution_count": 10,
   "metadata": {},
   "outputs": [
    {
     "data": {
      "text/html": [
       "<div>\n",
       "<style scoped>\n",
       "    .dataframe tbody tr th:only-of-type {\n",
       "        vertical-align: middle;\n",
       "    }\n",
       "\n",
       "    .dataframe tbody tr th {\n",
       "        vertical-align: top;\n",
       "    }\n",
       "\n",
       "    .dataframe thead th {\n",
       "        text-align: right;\n",
       "    }\n",
       "</style>\n",
       "<table border=\"1\" class=\"dataframe\">\n",
       "  <thead>\n",
       "    <tr style=\"text-align: right;\">\n",
       "      <th></th>\n",
       "      <th>descripcion_del_proceso</th>\n",
       "      <th>codigo_de_categoria_principal</th>\n",
       "      <th>segment_code</th>\n",
       "      <th>family_code</th>\n",
       "      <th>class_code</th>\n",
       "      <th>commodity_code</th>\n",
       "      <th>description_lenght</th>\n",
       "    </tr>\n",
       "  </thead>\n",
       "  <tbody>\n",
       "    <tr>\n",
       "      <th>0</th>\n",
       "      <td>SUMINISTRO DE MEDICAMENTOS AMBULATORIOS PARA L...</td>\n",
       "      <td>51101500</td>\n",
       "      <td>51</td>\n",
       "      <td>5110</td>\n",
       "      <td>511015</td>\n",
       "      <td>51101500</td>\n",
       "      <td>182</td>\n",
       "    </tr>\n",
       "    <tr>\n",
       "      <th>1</th>\n",
       "      <td>Prestar con plena autonomía técnica y administ...</td>\n",
       "      <td>86141704</td>\n",
       "      <td>86</td>\n",
       "      <td>8614</td>\n",
       "      <td>861417</td>\n",
       "      <td>86141704</td>\n",
       "      <td>227</td>\n",
       "    </tr>\n",
       "    <tr>\n",
       "      <th>2</th>\n",
       "      <td>Prestación de Servicios Profesionales como Abo...</td>\n",
       "      <td>80111501</td>\n",
       "      <td>80</td>\n",
       "      <td>8011</td>\n",
       "      <td>801115</td>\n",
       "      <td>80111501</td>\n",
       "      <td>256</td>\n",
       "    </tr>\n",
       "    <tr>\n",
       "      <th>3</th>\n",
       "      <td>PRESTAR SERVICIOS PROFESIONALES DE CARÁCTER TE...</td>\n",
       "      <td>80111600</td>\n",
       "      <td>80</td>\n",
       "      <td>8011</td>\n",
       "      <td>801116</td>\n",
       "      <td>80111600</td>\n",
       "      <td>284</td>\n",
       "    </tr>\n",
       "    <tr>\n",
       "      <th>4</th>\n",
       "      <td>Prestar servicios personales de carácter tempo...</td>\n",
       "      <td>86101710</td>\n",
       "      <td>86</td>\n",
       "      <td>8610</td>\n",
       "      <td>861017</td>\n",
       "      <td>86101710</td>\n",
       "      <td>300</td>\n",
       "    </tr>\n",
       "    <tr>\n",
       "      <th>5</th>\n",
       "      <td>Entregar a título de comodato a la Policía Nac...</td>\n",
       "      <td>95101800</td>\n",
       "      <td>95</td>\n",
       "      <td>9510</td>\n",
       "      <td>951018</td>\n",
       "      <td>95101800</td>\n",
       "      <td>230</td>\n",
       "    </tr>\n",
       "  </tbody>\n",
       "</table>\n",
       "</div>"
      ],
      "text/plain": [
       "                             descripcion_del_proceso  \\\n",
       "0  SUMINISTRO DE MEDICAMENTOS AMBULATORIOS PARA L...   \n",
       "1  Prestar con plena autonomía técnica y administ...   \n",
       "2  Prestación de Servicios Profesionales como Abo...   \n",
       "3  PRESTAR SERVICIOS PROFESIONALES DE CARÁCTER TE...   \n",
       "4  Prestar servicios personales de carácter tempo...   \n",
       "5  Entregar a título de comodato a la Policía Nac...   \n",
       "\n",
       "  codigo_de_categoria_principal segment_code family_code class_code  \\\n",
       "0                      51101500           51        5110     511015   \n",
       "1                      86141704           86        8614     861417   \n",
       "2                      80111501           80        8011     801115   \n",
       "3                      80111600           80        8011     801116   \n",
       "4                      86101710           86        8610     861017   \n",
       "5                      95101800           95        9510     951018   \n",
       "\n",
       "  commodity_code  description_lenght  \n",
       "0       51101500                 182  \n",
       "1       86141704                 227  \n",
       "2       80111501                 256  \n",
       "3       80111600                 284  \n",
       "4       86101710                 300  \n",
       "5       95101800                 230  "
      ]
     },
     "execution_count": 10,
     "metadata": {},
     "output_type": "execute_result"
    }
   ],
   "source": [
    "np.random.seed(987)\n",
    "sample_df = df_raw.sample(6).reset_index(drop=True)\n",
    "sample_df"
   ]
  },
  {
   "cell_type": "code",
   "execution_count": 11,
   "metadata": {},
   "outputs": [
    {
     "name": "stdout",
     "output_type": "stream",
     "text": [
      "Prestar con plena autonomía técnica y administrativa sus servicios profesionales en sistemas de la información  bibliotecología y archivística en el área de Gestión Documental  para apoyar la misión de la Biblioteca de la FUGA.\n"
     ]
    }
   ],
   "source": [
    "print(sample_df.loc[1, \"descripcion_del_proceso\"])"
   ]
  },
  {
   "cell_type": "code",
   "execution_count": 12,
   "metadata": {},
   "outputs": [
    {
     "name": "stdout",
     "output_type": "stream",
     "text": [
      "Prestación de Servicios Profesionales como Abogado (a) en la Subsecretaría de Acceso a Servicíos de Justicia  en desarrollo del proyecto denominado:  Fortalecimiento de los servicios de acceso a la justicia en Santiago de Cali  Según ficha EBI No. 26002080\n"
     ]
    }
   ],
   "source": [
    "print(sample_df.loc[2, \"descripcion_del_proceso\"])"
   ]
  },
  {
   "cell_type": "markdown",
   "metadata": {},
   "source": [
    "# Segments explorations"
   ]
  },
  {
   "cell_type": "code",
   "execution_count": 26,
   "metadata": {},
   "outputs": [
    {
     "data": {
      "text/plain": [
       "<AxesSubplot:title={'center':'20 most important UNSPSC Segment Codes'}, xlabel='percentage', ylabel='Segment Codes'>"
      ]
     },
     "execution_count": 26,
     "metadata": {},
     "output_type": "execute_result"
    },
    {
     "data": {
      "image/png": "[encoded data removed]",
      "text/plain": [
       "<Figure size 720x504 with 1 Axes>"
      ]
     },
     "metadata": {
      "needs_background": "light"
     },
     "output_type": "display_data"
    }
   ],
   "source": [
    "plt.figure(figsize=(10,7))\n",
    "plt.title('20 most important UNSPSC Segment Codes')\n",
    "plt.ylabel('Segment Codes')\n",
    "plt.xlabel('percentage')\n",
    "(100*df_raw.segment_code.value_counts(normalize=True)).iloc[:20].sort_values().plot(kind = 'barh')"
   ]
  },
  {
   "cell_type": "markdown",
   "metadata": {},
   "source": [
    "This plot shows us that we have a unbalanced dataset, where the majority of the UNSPSC codes are in 80 Segment"
   ]
  },
  {
   "cell_type": "markdown",
   "metadata": {},
   "source": []
  }
 ],
 "metadata": {
  "interpreter": {
   "hash": "a3f966273feecc803f70756ec54d7ac99871d4b8828d7b4125d8f9ec98086622"
  },
  "kernelspec": {
   "display_name": "Python 3.8.10 ('env': venv)",
   "language": "python",
   "name": "python3"
  },
  "language_info": {
   "codemirror_mode": {
    "name": "ipython",
    "version": 3
   },
   "file_extension": ".py",
   "mimetype": "text/x-python",
   "name": "python",
   "nbconvert_exporter": "python",
   "pygments_lexer": "ipython3",
   "version": "3.8.10"
  },
  "orig_nbformat": 4
 },
 "nbformat": 4,
 "nbformat_minor": 2
}
