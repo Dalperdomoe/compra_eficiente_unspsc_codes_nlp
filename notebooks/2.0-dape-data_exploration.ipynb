{
 "cells": [
  {
   "cell_type": "markdown",
   "metadata": {},
   "source": [
    "# Exploration\n",
    "\n",
    "Here we perform some basic exploration of the SECOP II dataset in order to get basic insights and get some ideas on how to process the data for training the model."
   ]
  },
  {
   "cell_type": "code",
   "execution_count": null,
   "metadata": {},
   "outputs": [],
   "source": [
    "import os\n",
    "import numpy as np\n",
    "import pandas as pd\n",
    "\n",
    "import matplotlib.pyplot as plt\n",
    "import seaborn as sns\n",
    "\n",
    "plt.style.use(\"seaborn\")"
   ]
  },
  {
   "cell_type": "markdown",
   "metadata": {},
   "source": [
    "# Data Loading"
   ]
  },
  {
   "cell_type": "code",
   "execution_count": null,
   "metadata": {},
   "outputs": [],
   "source": [
    "raw_file = os.path.join(\"..\", \"data\", \"raw\", \"raw_data.csv\")\n",
    "df_raw = pd.read_csv(raw_file)\n",
    "\n",
    "print(df_raw.shape)\n",
    "print(df_raw.columns)\n",
    "\n",
    "df_raw.head()"
   ]
  },
  {
   "cell_type": "code",
   "execution_count": null,
   "metadata": {},
   "outputs": [],
   "source": [
    "pd.isnull(df_raw).sum()"
   ]
  },
  {
   "cell_type": "markdown",
   "metadata": {},
   "source": [
    "As we can see, there are no entries without description or UNSPSC code."
   ]
  },
  {
   "cell_type": "markdown",
   "metadata": {},
   "source": [
    "#  Load UNSPSC Codes References"
   ]
  },
  {
   "cell_type": "code",
   "execution_count": null,
   "metadata": {},
   "outputs": [],
   "source": [
    "unspsc_file = os.path.join(\"..\",\"references\",\"UNSPSC Codes Reference.xlsx\")\n",
    "df_unspsc = pd.read_excel(unspsc_file)\n",
    "\n",
    "print(df_unspsc.shape)\n",
    "print(df_unspsc.columns)\n",
    "\n",
    "df_unspsc.head()"
   ]
  },
  {
   "cell_type": "code",
   "execution_count": null,
   "metadata": {},
   "outputs": [],
   "source": [
    "commodity_dict = dict(zip(df_unspsc['Commodity Code'],df_unspsc['Commodity Title']))\n",
    "class_dict = dict(\n",
    "    zip(\n",
    "        df_unspsc['Class Code'].astype('str').str.extract('([0-9]{6})', expand=False),\n",
    "        df_unspsc['Class Title']\n",
    "    )\n",
    ")\n",
    "family_dict = dict(\n",
    "    zip(\n",
    "        df_unspsc['Family Code'].astype('str').str.extract('([0-9]{4})', expand=False),\n",
    "        df_unspsc['Family Title']\n",
    "    )\n",
    ")\n",
    "segment_dict = dict(\n",
    "    zip(\n",
    "        df_unspsc['Segment Code'].astype('str').str.extract('([0-9]{2})', expand=False),\n",
    "        df_unspsc['Segment Title']\n",
    "    )\n",
    ")"
   ]
  },
  {
   "cell_type": "markdown",
   "metadata": {},
   "source": [
    "# Description Exploration"
   ]
  },
  {
   "cell_type": "code",
   "execution_count": null,
   "metadata": {},
   "outputs": [],
   "source": [
    "df_raw[\"description_lenght\"] = df_raw.descripcion_del_proceso.map(len)\n",
    "\n",
    "fig, ax = plt.subplots(figsize=(7, 7))\n",
    "lens_log10 = df_raw[\"description_lenght\"].map(np.log10)\n",
    "lens_log10.plot.hist(bins=40, ax=ax)\n",
    "\n",
    "median_len = lens_log10.median()\n",
    "ax.axvline(median_len, label=f\"Median Description Lenght: {10 ** median_len:0.2f}\", color=\"black\")\n",
    "\n",
    "ax.set_title(\"Hitorgram of Description Lenght (Characters)\")\n",
    "ax.set_xlabel(\"Length of Description (Log10)\")\n",
    "ax.legend()\n",
    "plt.show()"
   ]
  },
  {
   "cell_type": "markdown",
   "metadata": {},
   "source": [
    "From these basic histograms of description texts, we can see that mosk contracts texts are rather short, with a median description length of around 232 characters (10 ^ 2,36). This in turn corresponds to around 35 words."
   ]
  },
  {
   "cell_type": "markdown",
   "metadata": {},
   "source": [
    "# Text Exploration\n",
    "\n",
    "Now we take a quick look at one of the contracts bodies to get a better idea of what we are dealing with."
   ]
  },
  {
   "cell_type": "code",
   "execution_count": null,
   "metadata": {},
   "outputs": [],
   "source": [
    "np.random.seed(987)\n",
    "sample_df = df_raw.sample(6).reset_index(drop=True)\n",
    "sample_df"
   ]
  },
  {
   "cell_type": "code",
   "execution_count": null,
   "metadata": {},
   "outputs": [],
   "source": [
    "print(sample_df.loc[1, \"descripcion_del_proceso\"])"
   ]
  },
  {
   "cell_type": "code",
   "execution_count": null,
   "metadata": {},
   "outputs": [],
   "source": [
    "print(sample_df.loc[2, \"descripcion_del_proceso\"])"
   ]
  },
  {
   "cell_type": "code",
   "execution_count": null,
   "metadata": {},
   "outputs": [],
   "source": []
  }
 ],
 "metadata": {
  "interpreter": {
   "hash": "a3f966273feecc803f70756ec54d7ac99871d4b8828d7b4125d8f9ec98086622"
  },
  "kernelspec": {
   "display_name": "Python 3.8.10 ('env': venv)",
   "language": "python",
   "name": "python3"
  },
  "language_info": {
   "codemirror_mode": {
    "name": "ipython",
    "version": 3
   },
   "file_extension": ".py",
   "mimetype": "text/x-python",
   "name": "python",
   "nbconvert_exporter": "python",
   "pygments_lexer": "ipython3",
   "version": "3.8.10"
  },
  "orig_nbformat": 4
 },
 "nbformat": 4,
 "nbformat_minor": 2
}
