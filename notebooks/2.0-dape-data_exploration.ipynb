{
 "cells": [
  {
   "cell_type": "markdown",
   "metadata": {},
   "source": [
    "# Exploration\n",
    "\n",
    "Here we perform some basic exploration of the SECOP II dataset in order to get basic insights and get some ideas on how to process the data for training the model."
   ]
  },
  {
   "cell_type": "code",
   "execution_count": 1,
   "metadata": {},
   "outputs": [],
   "source": [
    "import os\n",
    "import numpy as np\n",
    "import pandas as pd\n",
    "\n",
    "import matplotlib.pyplot as plt\n",
    "import seaborn as sns\n",
    "\n",
    "plt.style.use(\"seaborn\")"
   ]
  },
  {
   "cell_type": "markdown",
   "metadata": {},
   "source": [
    "# Data Loading"
   ]
  },
  {
   "cell_type": "code",
   "execution_count": 3,
   "metadata": {},
   "outputs": [
    {
     "name": "stdout",
     "output_type": "stream",
     "text": [
      "(490226, 2)\n",
      "Index(['descripcion_del_proceso', 'codigo_de_categoria_principal'], dtype='object')\n"
     ]
    },
    {
     "data": {
      "text/html": [
       "<div>\n",
       "<style scoped>\n",
       "    .dataframe tbody tr th:only-of-type {\n",
       "        vertical-align: middle;\n",
       "    }\n",
       "\n",
       "    .dataframe tbody tr th {\n",
       "        vertical-align: top;\n",
       "    }\n",
       "\n",
       "    .dataframe thead th {\n",
       "        text-align: right;\n",
       "    }\n",
       "</style>\n",
       "<table border=\"1\" class=\"dataframe\">\n",
       "  <thead>\n",
       "    <tr style=\"text-align: right;\">\n",
       "      <th></th>\n",
       "      <th>descripcion_del_proceso</th>\n",
       "      <th>codigo_de_categoria_principal</th>\n",
       "    </tr>\n",
       "  </thead>\n",
       "  <tbody>\n",
       "    <tr>\n",
       "      <th>0</th>\n",
       "      <td>Prestar los servicios profesionales de apoyo j...</td>\n",
       "      <td>V1.77101604</td>\n",
       "    </tr>\n",
       "    <tr>\n",
       "      <th>1</th>\n",
       "      <td>CONTRATAR EL SERVICIO DE GESTIÓN DE EVENTOS O ...</td>\n",
       "      <td>V1.90101604</td>\n",
       "    </tr>\n",
       "    <tr>\n",
       "      <th>2</th>\n",
       "      <td>Censo_Economico_2021_SECGEN_BDMGN_TH Prestació...</td>\n",
       "      <td>V1.80111500</td>\n",
       "    </tr>\n",
       "    <tr>\n",
       "      <th>3</th>\n",
       "      <td>PRESTAR SERVICIOS DE CARÁCTER TEMPORAL COMO IN...</td>\n",
       "      <td>V1.80111600</td>\n",
       "    </tr>\n",
       "    <tr>\n",
       "      <th>4</th>\n",
       "      <td>AUNAR ESFUERZOS ENTRE EL DEPARTAMENTO Y EL MUN...</td>\n",
       "      <td>V1.72141003</td>\n",
       "    </tr>\n",
       "  </tbody>\n",
       "</table>\n",
       "</div>"
      ],
      "text/plain": [
       "                             descripcion_del_proceso  \\\n",
       "0  Prestar los servicios profesionales de apoyo j...   \n",
       "1  CONTRATAR EL SERVICIO DE GESTIÓN DE EVENTOS O ...   \n",
       "2  Censo_Economico_2021_SECGEN_BDMGN_TH Prestació...   \n",
       "3  PRESTAR SERVICIOS DE CARÁCTER TEMPORAL COMO IN...   \n",
       "4  AUNAR ESFUERZOS ENTRE EL DEPARTAMENTO Y EL MUN...   \n",
       "\n",
       "  codigo_de_categoria_principal  \n",
       "0                   V1.77101604  \n",
       "1                   V1.90101604  \n",
       "2                   V1.80111500  \n",
       "3                   V1.80111600  \n",
       "4                   V1.72141003  "
      ]
     },
     "execution_count": 3,
     "metadata": {},
     "output_type": "execute_result"
    }
   ],
   "source": [
    "raw_file = os.path.join(\"..\", \"data\", \"raw\", \"raw_data.csv\")\n",
    "df_raw = pd.read_csv(raw_file)\n",
    "\n",
    "print(df_raw.shape)\n",
    "print(df_raw.columns)\n",
    "\n",
    "df_raw.head()"
   ]
  },
  {
   "cell_type": "code",
   "execution_count": 4,
   "metadata": {},
   "outputs": [
    {
     "data": {
      "text/plain": [
       "descripcion_del_proceso          0\n",
       "codigo_de_categoria_principal    0\n",
       "dtype: int64"
      ]
     },
     "execution_count": 4,
     "metadata": {},
     "output_type": "execute_result"
    }
   ],
   "source": [
    "pd.isnull(df_raw).sum()"
   ]
  },
  {
   "cell_type": "markdown",
   "metadata": {},
   "source": [
    "As we can see, there are no entries without description or UNSPSC code."
   ]
  },
  {
   "cell_type": "code",
   "execution_count": 6,
   "metadata": {},
   "outputs": [
    {
     "data": {
      "image/png": "[encoded data removed]",
      "text/plain": [
       "<Figure size 504x504 with 1 Axes>"
      ]
     },
     "metadata": {
      "needs_background": "light"
     },
     "output_type": "display_data"
    }
   ],
   "source": [
    "df_raw[\"description_lenght\"] = df_raw.descripcion_del_proceso.map(len)\n",
    "\n",
    "fig, ax = plt.subplots(figsize=(7, 7))\n",
    "lens_log10 = df_raw[\"description_lenght\"].map(np.log10)\n",
    "lens_log10.plot.hist(bins=40, ax=ax)\n",
    "\n",
    "median_len = lens_log10.median()\n",
    "ax.axvline(median_len, label=f\"Median Description Lenght: {10 ** median_len:0.2f}\", color=\"black\")\n",
    "\n",
    "ax.set_title(\"Hitorgram of Description Lenght (Characters)\")\n",
    "ax.set_xlabel(\"Length of Description (Log10)\")\n",
    "ax.legend()\n",
    "plt.show()"
   ]
  },
  {
   "cell_type": "markdown",
   "metadata": {},
   "source": [
    "From these basic histograms of description texts, we can see that mosk contracts texts are rather short, with a median description length of around 232 characters (10 ^ 2,36). This in turn corresponds to around 35 words."
   ]
  },
  {
   "cell_type": "markdown",
   "metadata": {},
   "source": [
    "# Text Exploration\n",
    "\n",
    "Now we take a quick look at one of the contracts bodies to get a better idea of what we are dealing with."
   ]
  },
  {
   "cell_type": "code",
   "execution_count": 8,
   "metadata": {},
   "outputs": [
    {
     "data": {
      "text/html": [
       "<div>\n",
       "<style scoped>\n",
       "    .dataframe tbody tr th:only-of-type {\n",
       "        vertical-align: middle;\n",
       "    }\n",
       "\n",
       "    .dataframe tbody tr th {\n",
       "        vertical-align: top;\n",
       "    }\n",
       "\n",
       "    .dataframe thead th {\n",
       "        text-align: right;\n",
       "    }\n",
       "</style>\n",
       "<table border=\"1\" class=\"dataframe\">\n",
       "  <thead>\n",
       "    <tr style=\"text-align: right;\">\n",
       "      <th></th>\n",
       "      <th>descripcion_del_proceso</th>\n",
       "      <th>codigo_de_categoria_principal</th>\n",
       "      <th>description_lenght</th>\n",
       "    </tr>\n",
       "  </thead>\n",
       "  <tbody>\n",
       "    <tr>\n",
       "      <th>0</th>\n",
       "      <td>SERVICIOS PROFESIONALES PARA APOYAR Y ACOMPAÑA...</td>\n",
       "      <td>V1.80121704</td>\n",
       "      <td>239</td>\n",
       "    </tr>\n",
       "    <tr>\n",
       "      <th>1</th>\n",
       "      <td>EL CONTRATISTA SE OBLIGA PARA CON EL FONDO PRE...</td>\n",
       "      <td>V1.80101600</td>\n",
       "      <td>300</td>\n",
       "    </tr>\n",
       "    <tr>\n",
       "      <th>2</th>\n",
       "      <td>451-8-7677-PRESTAR LOS  SERVICIOS  DE APOYO A ...</td>\n",
       "      <td>V1.93151500</td>\n",
       "      <td>226</td>\n",
       "    </tr>\n",
       "    <tr>\n",
       "      <th>3</th>\n",
       "      <td>PRESTACION DE SERVICIOS PERSONALES PARA REALIZ...</td>\n",
       "      <td>V1.80161501</td>\n",
       "      <td>136</td>\n",
       "    </tr>\n",
       "    <tr>\n",
       "      <th>4</th>\n",
       "      <td>CONTRATAR LA PRESTACIÓN DE SERVICIOS DE APOYO ...</td>\n",
       "      <td>V1.80111701</td>\n",
       "      <td>281</td>\n",
       "    </tr>\n",
       "    <tr>\n",
       "      <th>5</th>\n",
       "      <td>Prestar servicios personales para Desarrollar ...</td>\n",
       "      <td>V1.80111600</td>\n",
       "      <td>154</td>\n",
       "    </tr>\n",
       "  </tbody>\n",
       "</table>\n",
       "</div>"
      ],
      "text/plain": [
       "                             descripcion_del_proceso  \\\n",
       "0  SERVICIOS PROFESIONALES PARA APOYAR Y ACOMPAÑA...   \n",
       "1  EL CONTRATISTA SE OBLIGA PARA CON EL FONDO PRE...   \n",
       "2  451-8-7677-PRESTAR LOS  SERVICIOS  DE APOYO A ...   \n",
       "3  PRESTACION DE SERVICIOS PERSONALES PARA REALIZ...   \n",
       "4  CONTRATAR LA PRESTACIÓN DE SERVICIOS DE APOYO ...   \n",
       "5  Prestar servicios personales para Desarrollar ...   \n",
       "\n",
       "  codigo_de_categoria_principal  description_lenght  \n",
       "0                   V1.80121704                 239  \n",
       "1                   V1.80101600                 300  \n",
       "2                   V1.93151500                 226  \n",
       "3                   V1.80161501                 136  \n",
       "4                   V1.80111701                 281  \n",
       "5                   V1.80111600                 154  "
      ]
     },
     "execution_count": 8,
     "metadata": {},
     "output_type": "execute_result"
    }
   ],
   "source": [
    "np.random.seed(987)\n",
    "sample_df = df_raw.sample(6).reset_index(drop=True)\n",
    "sample_df"
   ]
  },
  {
   "cell_type": "code",
   "execution_count": 9,
   "metadata": {},
   "outputs": [
    {
     "name": "stdout",
     "output_type": "stream",
     "text": [
      "EL CONTRATISTA SE OBLIGA PARA CON EL FONDO PRESTAS SUS SERVICIOS PROFESIONALES COMO ABOGADO PARA REALIZAR EL SEGUIMIENTO  LIQUIDACIÓN  DEPURACIÓN Y CONSOLIDACIÓN DE LA INFORMACIÓN DE LAS OBLIGACIONES POR PAGAR VIGENTES  A CARGO DE LA ALCALDÍA LOCAL DE BOSA.DE CONFORMIDAD CON LAS CONDICIONES Y OBLIG\n"
     ]
    }
   ],
   "source": [
    "print(sample_df.loc[1, \"descripcion_del_proceso\"])"
   ]
  },
  {
   "cell_type": "code",
   "execution_count": 10,
   "metadata": {},
   "outputs": [
    {
     "name": "stdout",
     "output_type": "stream",
     "text": [
      "451-8-7677-PRESTAR LOS  SERVICIOS  DE APOYO A LA GESTIÓN EN ACTIVIDADES OPERATIVAS  DE PLANTACIÓN  RECUPERACIÓN Y MANTENIMIENTO DE LAS COBERTURAS VEGETALES EN EL TERRITORIO O ZONA ASIGNADA POR LA SUBDIRECCIÓN TÉCNICA OPERATIVA\n"
     ]
    }
   ],
   "source": [
    "print(sample_df.loc[2, \"descripcion_del_proceso\"])"
   ]
  },
  {
   "cell_type": "code",
   "execution_count": null,
   "metadata": {},
   "outputs": [],
   "source": []
  }
 ],
 "metadata": {
  "interpreter": {
   "hash": "a3f966273feecc803f70756ec54d7ac99871d4b8828d7b4125d8f9ec98086622"
  },
  "kernelspec": {
   "display_name": "Python 3.8.10 ('env': venv)",
   "language": "python",
   "name": "python3"
  },
  "language_info": {
   "codemirror_mode": {
    "name": "ipython",
    "version": 3
   },
   "file_extension": ".py",
   "mimetype": "text/x-python",
   "name": "python",
   "nbconvert_exporter": "python",
   "pygments_lexer": "ipython3",
   "version": "3.8.10"
  },
  "orig_nbformat": 4
 },
 "nbformat": 4,
 "nbformat_minor": 2
}
